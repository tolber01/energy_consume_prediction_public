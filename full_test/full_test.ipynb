{
 "cells": [
  {
   "cell_type": "code",
   "execution_count": 6,
   "metadata": {},
   "outputs": [],
   "source": [
    "import pandas as pd\n",
    "import numpy as np\n",
    "\n",
    "def full_test(data, train_size, d, model):\n",
    "    model.fit(data[0:train_size],d)\n",
    "    data_size = data.shape[0]\n",
    "    first_id = 0\n",
    "    last_id = train_size+d\n",
    "    num_of_sets = 0\n",
    "    sum_of_errors = 0\n",
    "    while (last_id < data_size):\n",
    "        num_of_sets = num_of_sets + 1\n",
    "        real = np.array(data[first_id:last_id])\n",
    "        predicted = model.predict(d)\n",
    "        current_error = abs(real-predicted).sum()/(real.sum())\n",
    "        sum_of_errors = sum_of_errors + current_error\n",
    "        first_id = first_id + d\n",
    "        last_id = last_id + d\n",
    "    if(num_of_sets > 0):\n",
    "        return sum_of_errors/num_of_sets\n",
    "    else:\n",
    "        return 0"
   ]
  }
 ],
 "metadata": {
  "kernelspec": {
   "display_name": "Python 3",
   "language": "python",
   "name": "python3"
  },
  "language_info": {
   "codemirror_mode": {
    "name": "ipython",
    "version": 3
   },
   "file_extension": ".py",
   "mimetype": "text/x-python",
   "name": "python",
   "nbconvert_exporter": "python",
   "pygments_lexer": "ipython3",
   "version": "3.8.3"
  }
 },
 "nbformat": 4,
 "nbformat_minor": 4
}
